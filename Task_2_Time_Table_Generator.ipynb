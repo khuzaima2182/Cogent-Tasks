{
  "nbformat": 4,
  "nbformat_minor": 0,
  "metadata": {
    "colab": {
      "provenance": []
    },
    "kernelspec": {
      "name": "python3",
      "display_name": "Python 3"
    },
    "language_info": {
      "name": "python"
    }
  },
  "cells": [
    {
      "cell_type": "code",
      "execution_count": null,
      "metadata": {
        "colab": {
          "base_uri": "https://localhost:8080/"
        },
        "id": "kQ9Ww7JsurNa",
        "outputId": "4af3b8ef-13da-4628-9876-9da4541ab44b"
      },
      "outputs": [
        {
          "output_type": "stream",
          "name": "stdout",
          "text": [
            "\u001b[2K     \u001b[90m━━━━━━━━━━━━━━━━━━━━━━━━━━━━━━━━━━━━━━━━\u001b[0m \u001b[32m164.2/164.2 kB\u001b[0m \u001b[31m4.9 MB/s\u001b[0m eta \u001b[36m0:00:00\u001b[0m\n",
            "\u001b[2K     \u001b[90m━━━━━━━━━━━━━━━━━━━━━━━━━━━━━━━━━━━━━━━━\u001b[0m \u001b[32m373.5/373.5 kB\u001b[0m \u001b[31m7.7 MB/s\u001b[0m eta \u001b[36m0:00:00\u001b[0m\n",
            "\u001b[2K     \u001b[90m━━━━━━━━━━━━━━━━━━━━━━━━━━━━━━━━━━━━━━━━\u001b[0m \u001b[32m718.3/718.3 kB\u001b[0m \u001b[31m11.2 MB/s\u001b[0m eta \u001b[36m0:00:00\u001b[0m\n",
            "\u001b[2K     \u001b[90m━━━━━━━━━━━━━━━━━━━━━━━━━━━━━━━━━━━━━━━━\u001b[0m \u001b[32m139.8/139.8 kB\u001b[0m \u001b[31m12.1 MB/s\u001b[0m eta \u001b[36m0:00:00\u001b[0m\n",
            "\u001b[2K     \u001b[90m━━━━━━━━━━━━━━━━━━━━━━━━━━━━━━━━━━━━━━━━\u001b[0m \u001b[32m141.1/141.1 kB\u001b[0m \u001b[31m10.1 MB/s\u001b[0m eta \u001b[36m0:00:00\u001b[0m\n",
            "\u001b[?25h"
          ]
        }
      ],
      "source": [
        "%pip install --upgrade --quiet  langchain-google-genai"
      ]
    },
    {
      "cell_type": "code",
      "source": [
        "from langchain_google_genai import GoogleGenerativeAI\n",
        "from getpass import getpass"
      ],
      "metadata": {
        "id": "lVNSfmEpAIRv"
      },
      "execution_count": null,
      "outputs": []
    },
    {
      "cell_type": "code",
      "source": [
        "api_key = getpass()"
      ],
      "metadata": {
        "colab": {
          "base_uri": "https://localhost:8080/"
        },
        "id": "c4KfHs9JAj4F",
        "outputId": "64dbe9dd-0258-4c5e-b4a2-7108e5298ffe"
      },
      "execution_count": null,
      "outputs": [
        {
          "name": "stdout",
          "output_type": "stream",
          "text": [
            "··········\n"
          ]
        }
      ]
    },
    {
      "cell_type": "code",
      "source": [
        "def prompt_genai():\n",
        "    prompt = f\"\"\"\n",
        "    Analyze the following student-specific data and create a personalized study plan. The plan should address academic requirements, preferred learning styles, extracurricular activities, and distinct personal objectives or challenges. Ensure the study plan aligns with the student's unique needs and aspirations.\n",
        "    Student Information:\n",
        "    Personal Details:\n",
        "     Name: {student_info['name']}\n",
        "     Age: {student_info['age']}\n",
        "     Grade Level: {student_info['grade_level']}\n",
        "    Academic Performance:\n",
        "     Subjects and Grades: {student_info['subjects_and_grades'].items()}\n",
        "     Learning Styles:\n",
        "     Primary Learning Style: {student_info['learning_styles']['primary']}\n",
        "     Secondary Learning Style: {student_info['learning_styles']['secondary']}\n",
        "    Extracurricular Activities: {student_info['extracurricular_activities']}\n",
        "    Personal Objectives or Challenges: {student_info['personal_objectives_or_challenges']}\n",
        "\n",
        "    Guidelines for Creating the Study Plan:\n",
        "    1. Academic Focus:\n",
        "       Identify key areas of improvement in each subject based on current grades.\n",
        "       Recommend study resources and techniques aligned with the student's learning style.\n",
        "       Allocate time for each subject, with more emphasis on subjects where the student needs improvement.\n",
        "     2. Learning Styles:\n",
        "       - Incorporate activities and study methods that cater to the student's primary and secondary learning styles.\n",
        "         - For Visual learners: Suggest using diagrams, charts, and videos.\n",
        "         - For Auditory learners: Recommend listening to lectures, discussions, and using mnemonic devices.\n",
        "         - For Kinesthetic learners: Encourage hands-on activities, experiments, and movement-based learning.\n",
        "\n",
        "    3. Extracurricular Integration:\n",
        "       - Balance academic workload with extracurricular activities.\n",
        "       - Suggest how extracurricular activities can complement academic learning (e.g., sports for kinesthetic learners, debate club for auditory learners).\n",
        "\n",
        "    4. Personal Objectives and Challenges:\n",
        "       - Provide strategies to achieve specific personal objectives (e.g., preparing for a specific exam).\n",
        "       - Offer solutions to overcome learning difficulties (e.g., using assistive technology for students with dyslexia).\n",
        "       - Include motivational tips and stress management techniques.\n",
        "\n",
        "    5. Daily and Weekly Schedule:\n",
        "       - Outline a daily and weekly study schedule that includes time for each subject, breaks, and extracurricular activities.\n",
        "       - Ensure the schedule is realistic and manageable, allowing for flexibility and adjustment as needed.\n",
        "\n",
        "    6. Progress Tracking:\n",
        "       - Suggest methods for tracking progress in each subject (e.g., regular quizzes, self-assessment tools).\n",
        "       - Recommend periodic reviews and adjustments to the study plan based on progress and feedback\n",
        "\n",
        "    Now create a personalized study plan for the student based on the provided information in the tabular form\n",
        "    \"\"\"\n",
        "    return prompt\n",
        "\n",
        "llm = GoogleGenerativeAI(model=\"models/text-bison-001\", google_api_key=api_key)\n",
        "print(\n",
        "    llm.invoke(\n",
        "        prompt_genai()\n",
        "    )\n",
        ")\n",
        "\n",
        "student_info = {\n",
        "    'name': 'Jane Doe',\n",
        "    'age': 15,\n",
        "    'grade_level': 10,\n",
        "    'subjects_and_grades': {\n",
        "        'Mathematics': 'B',\n",
        "        'Science': 'A-',\n",
        "        'English': 'B+',\n",
        "        'History': 'C+',\n",
        "        'Art': 'A'\n",
        "    },\n",
        "    'learning_styles': {\n",
        "        'primary': 'Visual',\n",
        "        'secondary': 'Kinesthetic'\n",
        "    },\n",
        "    'extracurricular_activities': [\n",
        "        'Soccer (Team Captain)',\n",
        "        'Drama Club',\n",
        "        'Art Class'\n",
        "    ],\n",
        "    'personal_objectives_or_challenges': [\n",
        "        'Prepare for SAT exam',\n",
        "        'Improve grade in History',\n",
        "        'Manage time effectively between academics and extracurricular activities'\n",
        "    ]\n",
        "}"
      ],
      "metadata": {
        "colab": {
          "base_uri": "https://localhost:8080/"
        },
        "id": "qLKp3xXcAmvh",
        "outputId": "45b1d6b5-d0a1-4f64-d25d-10e600b0f9d8"
      },
      "execution_count": null,
      "outputs": [
        {
          "output_type": "stream",
          "name": "stdout",
          "text": [
            "**Personalized Study Plan for Jane Doe**\n",
            "\n",
            "   **Academic Focus**\n",
            "\n",
            "   Jane is a 15-year-old student in the 10th grade. She is a visual and kinesthetic learner. Her current grades are:\n",
            "\n",
            "   | Subject | Grade |\n",
            "   |---|---|\n",
            "   | Mathematics | B |\n",
            "   | Science | A- |\n",
            "   | English | B+ |\n",
            "   | History | C+ |\n",
            "   | Art | A |\n",
            "\n",
            "   **Key areas of improvement:**\n",
            "\n",
            "   * History: Jane needs to improve her grade in History. She could do this by:\n",
            "       * Reading and taking notes on the textbook chapters.\n",
            "       * Creating flashcards and quizzing herself on the material.\n",
            "       * Participating in class discussions and asking questions.\n",
            "       * Studying with a friend or tutor.\n",
            "\n",
            "   * SAT exam: Jane is preparing for the SAT exam. She could do this by:\n",
            "       * Taking practice tests and reviewing her incorrect answers.\n",
            "       * Studying the SAT subject matter that she is struggling with.\n",
            "       * Using study guides and flashcards.\n",
            "       * Enrolling in a SAT prep course.\n",
            "\n",
            "   **Learning Styles**\n",
            "\n",
            "   Jane is a visual and kinesthetic learner. This means that she learns best by seeing and doing. She should incorporate activities and study methods that cater to her learning style, such as:\n",
            "\n",
            "   * Using diagrams, charts, and videos to help her visualize the material.\n",
            "   * Creating flashcards and taking notes by hand.\n",
            "   * Participating in hands-on activities and experiments.\n",
            "   * Studying with a friend or tutor who can help her explain the material in a way that makes sense to her.\n",
            "\n",
            "   **Extracurricular Integration**\n",
            "\n",
            "   Jane is involved in several extracurricular activities, including soccer, drama club, and art class. She should balance her academic workload with her extracurricular activities by:\n",
            "\n",
            "   * Setting aside specific times each day for studying and homework.\n",
            "   * Creating a study schedule that works for her and that allows her to fit in her extracurricular activities.\n",
            "   * Asking for help from her teachers and parents if she is feeling overwhelmed.\n",
            "   * Negotiating with her coaches and teachers about when she can miss practices or classes for extracurricular activities.\n",
            "\n",
            "   **Personal Objectives and Challenges**\n",
            "\n",
            "   Jane has several personal objectives and challenges that she is working on, including:\n",
            "\n",
            "   * Improving her grade in History.\n",
            "   * Preparing for the SAT exam.\n",
            "   * Managing her time effectively between academics and extracurricular activities.\n",
            "\n",
            "   She could achieve these objectives by:\n",
            "\n",
            "   * Setting specific goals for herself and creating a plan to achieve them.\n",
            "   * Staying motivated by setting small, achievable goals and celebrating her successes.\n",
            "   * Asking for help from her teachers, parents, and friends when she needs it.\n",
            "   * Using stress management techniques to cope with the demands of school and extracurricular activities.\n",
            "\n",
            "   **Daily and Weekly Schedule**\n",
            "\n",
            "   Jane's daily and weekly schedule should include time for each subject, breaks, and extracurricular activities. A sample schedule could look like this:\n",
            "\n",
            "   **Daily Schedule**\n",
            "\n",
            "   | Time | Activity |\n",
            "   |---|---|\n",
            "   | 7:00 - 8:00 | Wake up, eat breakfast, and get ready for school |\n",
            "   | 8:00 - 3:00 | School |\n",
            "   | 3:00 - 4:00 | Homework and extracurricular activities |\n",
            "   | 4:00 - 5:00 | Dinner and free time |\n",
            "   | 5:00 - 6:00 | Study |\n",
            "   | 6:00 - 7:00 | Relax and unwind |\n",
            "\n",
            "   **Weekly Schedule**\n",
            "\n",
            "   | Day | Subject | Time |\n",
            "   |---|---|---|\n",
            "   | Monday | Math | 30 minutes |\n",
            "   | Monday | Science | 30 minutes |\n",
            "   | Monday | English | 30 minutes |\n",
            "   | Monday | History | 45 minutes |\n",
            "   | Monday | Art | 30 minutes |\n",
            "   | Tuesday | Math | 30 minutes |\n",
            "   | Tuesday | Science | 30 minutes |\n",
            "   | Tuesday | English | 30 minutes |\n",
            "   | Tuesday | History | 45 minutes |\n",
            "   | Tuesday | Art | 30 minutes |\n",
            "   | Wednesday | Math | 30 minutes |\n",
            "   | Wednesday | Science | 30 minutes |\n",
            "   | Wednesday | English | 30 minutes |\n",
            "   | Wednesday | History | 45 minutes |\n",
            "   | Wednesday | Art | 30 minutes |\n",
            "   | Thursday | Math | 3\n"
          ]
        }
      ]
    }
  ]
}