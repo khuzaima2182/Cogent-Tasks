{
  "nbformat": 4,
  "nbformat_minor": 0,
  "metadata": {
    "colab": {
      "provenance": []
    },
    "kernelspec": {
      "name": "python3",
      "display_name": "Python 3"
    },
    "language_info": {
      "name": "python"
    }
  },
  "cells": [
    {
      "cell_type": "markdown",
      "source": [
        "<h3>Setting up the libraries</h3>"
      ],
      "metadata": {
        "id": "WH6QaJIcmf6R"
      }
    },
    {
      "cell_type": "code",
      "source": [
        "%pip install --upgrade --quiet  langchain-google-genai"
      ],
      "metadata": {
        "colab": {
          "base_uri": "https://localhost:8080/"
        },
        "id": "OWKqKUnORssH",
        "outputId": "11ecb31a-5fe7-40f9-ea87-7693077648bb"
      },
      "execution_count": 1,
      "outputs": [
        {
          "output_type": "stream",
          "name": "stdout",
          "text": [
            "\u001b[2K     \u001b[90m━━━━━━━━━━━━━━━━━━━━━━━━━━━━━━━━━━━━━━━━\u001b[0m \u001b[32m164.2/164.2 kB\u001b[0m \u001b[31m5.0 MB/s\u001b[0m eta \u001b[36m0:00:00\u001b[0m\n",
            "\u001b[2K     \u001b[90m━━━━━━━━━━━━━━━━━━━━━━━━━━━━━━━━━━━━━━━━\u001b[0m \u001b[32m372.0/372.0 kB\u001b[0m \u001b[31m4.1 MB/s\u001b[0m eta \u001b[36m0:00:00\u001b[0m\n",
            "\u001b[2K     \u001b[90m━━━━━━━━━━━━━━━━━━━━━━━━━━━━━━━━━━━━━━━━\u001b[0m \u001b[32m718.3/718.3 kB\u001b[0m \u001b[31m14.3 MB/s\u001b[0m eta \u001b[36m0:00:00\u001b[0m\n",
            "\u001b[2K     \u001b[90m━━━━━━━━━━━━━━━━━━━━━━━━━━━━━━━━━━━━━━━━\u001b[0m \u001b[32m135.0/135.0 kB\u001b[0m \u001b[31m8.5 MB/s\u001b[0m eta \u001b[36m0:00:00\u001b[0m\n",
            "\u001b[2K     \u001b[90m━━━━━━━━━━━━━━━━━━━━━━━━━━━━━━━━━━━━━━━━\u001b[0m \u001b[32m141.1/141.1 kB\u001b[0m \u001b[31m3.3 MB/s\u001b[0m eta \u001b[36m0:00:00\u001b[0m\n",
            "\u001b[?25h"
          ]
        }
      ]
    },
    {
      "cell_type": "code",
      "source": [
        "from langchain_google_genai import GoogleGenerativeAI\n",
        "from getpass import getpass"
      ],
      "metadata": {
        "id": "_Pmj9UHElcRd"
      },
      "execution_count": 2,
      "outputs": []
    },
    {
      "cell_type": "markdown",
      "source": [
        "**Setting Up the API Key**"
      ],
      "metadata": {
        "id": "L4LvFlfqUm89"
      }
    },
    {
      "cell_type": "code",
      "source": [
        "api_key = getpass()"
      ],
      "metadata": {
        "colab": {
          "base_uri": "https://localhost:8080/"
        },
        "id": "b6FvAJKWUcna",
        "outputId": "24d17d26-fce2-454b-c05a-2cf38492adf5"
      },
      "execution_count": 3,
      "outputs": [
        {
          "name": "stdout",
          "output_type": "stream",
          "text": [
            "··········\n"
          ]
        }
      ]
    },
    {
      "cell_type": "markdown",
      "source": [
        "**Setting Up Prompt**"
      ],
      "metadata": {
        "id": "rDeuWza7UrEm"
      }
    },
    {
      "cell_type": "markdown",
      "source": [
        "<h1> Important semantics to write in our prompt <h1>\n",
        "\n",
        "<h4> 1. You are my social media manager so i want you to write me a post (topic) <h4>\n",
        "<h4> 2. Tone must be professional </h4>\n",
        "<h4> 3. Attention-grabbing statment to start </h4>\n",
        "<h4> 4. Achievements in bullet points </h4>\n",
        "<h4> 5. Call-to-actions with testimonials </h4>\n",
        "<h4> 6. Hashtags and links </h4>\n",
        "\n",
        "Firstly we have to tell the model about our requirement like the model is that person to do.\n",
        "\n",
        "Then we have to give the context about our requirement to fulfill."
      ],
      "metadata": {
        "id": "i2kT0B3baCf_"
      }
    },
    {
      "cell_type": "code",
      "source": [
        "def prompt_generation(answers):\n",
        "  prompt = f\"\"\"\n",
        "  You are my social media manager for LinkedIn posts so I want you to write me a post using the following parameters:\n",
        "  Tone: Tone must be professional\n",
        "  Starting Statement: Attention-grabbing statement to start the post like (Did you know?) headline\n",
        "  Alignment: Achievements in bullet points like emojis\n",
        "  Call-to-actions with testimonials\n",
        "  Hashtags and links\n",
        "\n",
        "  Generate a professional social media post about the answers below\n",
        "   {answers['Q1']}:\n",
        "   {answers['Q7']}\n",
        "   {answers['Q3']}\n",
        "   {answers['Q4']}\n",
        "   {answers['Q5']}\n",
        "   {answers['Q6']}\n",
        "   {answers['Q2']}\n",
        "  \"\"\"\n",
        "  return prompt\n",
        "\n",
        "answers = {\n",
        "    'Q1': \"successful collaboration between Sodexo and CoachHub to accelerate leadership development across the APMEA region.\",\n",
        "    'Q2': \"The challenge addressed in this case was the need for scalable leadership development programs that could effectively engage and develop employees across diverse geographic regions, particularly in the Asia Pacific, Middle East, and Africa (APMEA).\",\n",
        "    'Q3': \"The key results achieved in this story include the implementation of scalable coaching programs powered by AI and analytics, which led to improved knowledge retention, enhanced leadership skills, and increased employee engagement across the APMEA region.\",\n",
        "    'Q4': \"75% of classroom-style training is forgotten if it's not implemented within 6 days after.\",\n",
        "    'Q5': \"explore the greater you\",\n",
        "    'Q6': \"#ExploreTheGreaterYou https://bit.ly/3LMxIHg\",\n",
        "    'Q7': \"professional and make sure to write the achievements in the form of points.\"\n",
        "}"
      ],
      "metadata": {
        "id": "RY3EmOVccYvd"
      },
      "execution_count": 13,
      "outputs": []
    },
    {
      "cell_type": "code",
      "source": [
        "llm = GoogleGenerativeAI(model=\"models/text-bison-001\", google_api_key=api_key)\n",
        "\n",
        "response = llm.invoke(prompt_generation(answers))\n",
        "print(response)\n"
      ],
      "metadata": {
        "colab": {
          "base_uri": "https://localhost:8080/"
        },
        "id": "Vhhx9NVbVDy0",
        "outputId": "3415c219-7138-4e49-ac7b-3e7d0b1d246b"
      },
      "execution_count": 14,
      "outputs": [
        {
          "output_type": "stream",
          "name": "stdout",
          "text": [
            "**Did you know?** 75% of classroom-style training is forgotten if it's not implemented within 6 days after.\n",
            "\n",
            "**Sodexo and CoachHub partnered to accelerate leadership development across the APMEA region.**\n",
            "\n",
            "* **Implemented scalable coaching programs powered by AI and analytics.**\n",
            "* **Improved knowledge retention by 50%.**\n",
            "* **Enhanced leadership skills by 20%.**\n",
            "* **Increased employee engagement by 15%.**\n",
            "\n",
            "**Learn more about this success story and how you can accelerate leadership development in your organization:**\n",
            "\n",
            "[Link to case study]\n",
            "\n",
            "#ExploreTheGreaterYou\n"
          ]
        }
      ]
    },
    {
      "cell_type": "code",
      "source": [],
      "metadata": {
        "id": "Q4e9pq59evfS"
      },
      "execution_count": null,
      "outputs": []
    }
  ]
}